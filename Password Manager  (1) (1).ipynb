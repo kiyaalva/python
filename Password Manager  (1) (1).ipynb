{
 "cells": [
  {
   "cell_type": "code",
   "execution_count": 1,
   "id": "9a956e0d",
   "metadata": {},
   "outputs": [],
   "source": [
    "class BasePasswordManager:\n",
    "    def __init__(self,old_password=[]):\n",
    "        self.old_password = old_password\n",
    "        pass\n",
    "        \n",
    "    def get_password(self):\n",
    "        try:\n",
    "            password = self.old_password[-1]\n",
    "        except IndexError: \n",
    "            password=\"\"\n",
    "        return password\n",
    "    def is_correct(self,a):\n",
    "        return self.a == self.old_password[-1]\n",
    "    def add_password(self, passw):\n",
    "        self.passw = passw\n",
    "        self.old_password.append(self.passw)"
   ]
  },
  {
   "cell_type": "code",
   "execution_count": 2,
   "id": "5e3af10c",
   "metadata": {},
   "outputs": [],
   "source": [
    "class PasswordManager(BasePasswordManager):\n",
    "    def __init__(self):\n",
    "        super(PasswordManager,self).__init__()\n",
    "        pass\n",
    "        \n",
    "    def set_password(self,password):\n",
    "        self.password = password\n",
    "        if len(self.password) < 6:\n",
    "            print(\"password not long enough\")\n",
    "            \n",
    "        else:\n",
    "            level1 = self.get_level(self.password)\n",
    "            oldpass = self.get_password()\n",
    "            level2 = self.get_level(oldpass)\n",
    "            \n",
    "            if level1 > level2 :\n",
    "                self.add_password(self.password)\n",
    "                print(\"password changed successfully\")\n",
    "                \n",
    "            else:\n",
    "                print(\"Create a stronger password\")\n",
    "                \n",
    "        \n",
    "    def get_level(self,string):\n",
    "        self.string = string\n",
    "        if string.isnumeric() == True :\n",
    "            level = 0\n",
    "        elif string.isalpha() == True :\n",
    "            level = 0\n",
    "        elif string.isalnum() == True:\n",
    "            level = 1\n",
    "        elif len(string) == 0:\n",
    "            level = 0\n",
    "        else:\n",
    "            level = 2 \n",
    "        return level \n",
    "        "
   ]
  },
  {
   "cell_type": "code",
   "execution_count": 3,
   "id": "0e3a744d",
   "metadata": {},
   "outputs": [],
   "source": [
    "my_password = BasePasswordManager()"
   ]
  },
  {
   "cell_type": "code",
   "execution_count": 4,
   "id": "27e23f42",
   "metadata": {},
   "outputs": [
    {
     "data": {
      "text/plain": [
       "''"
      ]
     },
     "execution_count": 4,
     "metadata": {},
     "output_type": "execute_result"
    }
   ],
   "source": [
    "my_password.get_password()"
   ]
  },
  {
   "cell_type": "code",
   "execution_count": 5,
   "id": "07adb051",
   "metadata": {},
   "outputs": [],
   "source": [
    "mypass= PasswordManager()"
   ]
  },
  {
   "cell_type": "code",
   "execution_count": 6,
   "id": "6e350059",
   "metadata": {},
   "outputs": [],
   "source": [
    "s='kiran@8'"
   ]
  },
  {
   "cell_type": "code",
   "execution_count": 7,
   "id": "b07633f8",
   "metadata": {},
   "outputs": [
    {
     "data": {
      "text/plain": [
       "2"
      ]
     },
     "execution_count": 7,
     "metadata": {},
     "output_type": "execute_result"
    }
   ],
   "source": [
    "mypass.get_level(s)"
   ]
  },
  {
   "cell_type": "code",
   "execution_count": 8,
   "id": "5e931872",
   "metadata": {},
   "outputs": [
    {
     "name": "stdout",
     "output_type": "stream",
     "text": [
      "password changed successfully\n"
     ]
    }
   ],
   "source": [
    "mypass.set_password(s)"
   ]
  },
  {
   "cell_type": "code",
   "execution_count": 9,
   "id": "71241eab",
   "metadata": {},
   "outputs": [
    {
     "data": {
      "text/plain": [
       "'kiran@8'"
      ]
     },
     "execution_count": 9,
     "metadata": {},
     "output_type": "execute_result"
    }
   ],
   "source": [
    "my_password.get_password()"
   ]
  },
  {
   "cell_type": "code",
   "execution_count": null,
   "id": "b5f3fc43",
   "metadata": {},
   "outputs": [],
   "source": []
  },
  {
   "cell_type": "code",
   "execution_count": null,
   "id": "c465b19d",
   "metadata": {},
   "outputs": [],
   "source": []
  },
  {
   "cell_type": "code",
   "execution_count": null,
   "id": "8ac1ada7",
   "metadata": {},
   "outputs": [],
   "source": []
  },
  {
   "cell_type": "code",
   "execution_count": null,
   "id": "90e0ee0a",
   "metadata": {},
   "outputs": [],
   "source": []
  },
  {
   "cell_type": "code",
   "execution_count": null,
   "id": "726f67a6",
   "metadata": {},
   "outputs": [],
   "source": []
  },
  {
   "cell_type": "code",
   "execution_count": null,
   "id": "4dc3c1f7",
   "metadata": {},
   "outputs": [],
   "source": []
  },
  {
   "cell_type": "code",
   "execution_count": null,
   "id": "3cdf089a",
   "metadata": {},
   "outputs": [],
   "source": []
  }
 ],
 "metadata": {
  "kernelspec": {
   "display_name": "Python 3 (ipykernel)",
   "language": "python",
   "name": "python3"
  },
  "language_info": {
   "codemirror_mode": {
    "name": "ipython",
    "version": 3
   },
   "file_extension": ".py",
   "mimetype": "text/x-python",
   "name": "python",
   "nbconvert_exporter": "python",
   "pygments_lexer": "ipython3",
   "version": "3.9.12"
  }
 },
 "nbformat": 4,
 "nbformat_minor": 5
}
